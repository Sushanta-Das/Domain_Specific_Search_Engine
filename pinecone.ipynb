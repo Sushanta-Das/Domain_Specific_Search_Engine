{
 "cells": [
  {
   "cell_type": "code",
   "execution_count": 1,
   "metadata": {},
   "outputs": [],
   "source": [
    "import pandas as pd\n",
    "path=\"./data/javatpoint.json\"\n",
    "df = pd.read_json(path)"
   ]
  },
  {
   "cell_type": "code",
   "execution_count": 2,
   "metadata": {},
   "outputs": [
    {
     "data": {
      "text/html": [
       "<div>\n",
       "<style scoped>\n",
       "    .dataframe tbody tr th:only-of-type {\n",
       "        vertical-align: middle;\n",
       "    }\n",
       "\n",
       "    .dataframe tbody tr th {\n",
       "        vertical-align: top;\n",
       "    }\n",
       "\n",
       "    .dataframe thead th {\n",
       "        text-align: right;\n",
       "    }\n",
       "</style>\n",
       "<table border=\"1\" class=\"dataframe\">\n",
       "  <thead>\n",
       "    <tr style=\"text-align: right;\">\n",
       "      <th></th>\n",
       "      <th>title</th>\n",
       "      <th>h1</th>\n",
       "      <th>h2</th>\n",
       "      <th>strong</th>\n",
       "      <th>link</th>\n",
       "    </tr>\n",
       "  </thead>\n",
       "  <tbody>\n",
       "    <tr>\n",
       "      <th>0</th>\n",
       "      <td>Learn Python Tutorial | Python Programming Lan...</td>\n",
       "      <td>[Python Tutorial | Python Programming Language]</td>\n",
       "      <td>[Python Tutorial, Python OOPs, Python MySQL, P...</td>\n",
       "      <td>[Python, Java, C++., Guido van Rossum, Python ...</td>\n",
       "      <td>https://www.javatpoint.com/python-tutorial</td>\n",
       "    </tr>\n",
       "    <tr>\n",
       "      <th>1</th>\n",
       "      <td>Python SciPy Tutorial - javatpoint</td>\n",
       "      <td>[Python SciPy Tutorial]</td>\n",
       "      <td>[Python SciPy Tutorial, What is SciPy, History...</td>\n",
       "      <td>[Scipy, Sigh pi, SciPy, integration, gradient ...</td>\n",
       "      <td>https://www.javatpoint.com/python-scipy</td>\n",
       "    </tr>\n",
       "    <tr>\n",
       "      <th>2</th>\n",
       "      <td>Python Design Patterns - javatpoint</td>\n",
       "      <td>[Python Design Pattern]</td>\n",
       "      <td>[Design Pattern, What is Design Pattern?, Conf...</td>\n",
       "      <td>[For example -, Pattern Name -, Intent/ Motive...</td>\n",
       "      <td>https://www.javatpoint.com/python-design-pattern</td>\n",
       "    </tr>\n",
       "    <tr>\n",
       "      <th>3</th>\n",
       "      <td>Python CGI Programming - javatpoint</td>\n",
       "      <td>[Python CGI Programming]</td>\n",
       "      <td>[Python CGI Programming, What is CGI?, Web Bro...</td>\n",
       "      <td>[\"Common Gateway Interface\", &lt;form&gt;, &lt;isindex&gt;...</td>\n",
       "      <td>https://www.javatpoint.com/python-cgi-programming</td>\n",
       "    </tr>\n",
       "    <tr>\n",
       "      <th>4</th>\n",
       "      <td>Python Pandas | Python Pandas Tutorial - javat...</td>\n",
       "      <td>[Python Pandas Tutorial]</td>\n",
       "      <td>[Pandas Tutorial, Pandas Series, Pandas DataFr...</td>\n",
       "      <td>[Representation of Data:, Clear code:, Data:, ...</td>\n",
       "      <td>https://www.javatpoint.com/python-pandas</td>\n",
       "    </tr>\n",
       "  </tbody>\n",
       "</table>\n",
       "</div>"
      ],
      "text/plain": [
       "                                               title  \\\n",
       "0  Learn Python Tutorial | Python Programming Lan...   \n",
       "1                 Python SciPy Tutorial - javatpoint   \n",
       "2                Python Design Patterns - javatpoint   \n",
       "3                Python CGI Programming - javatpoint   \n",
       "4  Python Pandas | Python Pandas Tutorial - javat...   \n",
       "\n",
       "                                                h1  \\\n",
       "0  [Python Tutorial | Python Programming Language]   \n",
       "1                          [Python SciPy Tutorial]   \n",
       "2                          [Python Design Pattern]   \n",
       "3                         [Python CGI Programming]   \n",
       "4                         [Python Pandas Tutorial]   \n",
       "\n",
       "                                                  h2  \\\n",
       "0  [Python Tutorial, Python OOPs, Python MySQL, P...   \n",
       "1  [Python SciPy Tutorial, What is SciPy, History...   \n",
       "2  [Design Pattern, What is Design Pattern?, Conf...   \n",
       "3  [Python CGI Programming, What is CGI?, Web Bro...   \n",
       "4  [Pandas Tutorial, Pandas Series, Pandas DataFr...   \n",
       "\n",
       "                                              strong  \\\n",
       "0  [Python, Java, C++., Guido van Rossum, Python ...   \n",
       "1  [Scipy, Sigh pi, SciPy, integration, gradient ...   \n",
       "2  [For example -, Pattern Name -, Intent/ Motive...   \n",
       "3  [\"Common Gateway Interface\", <form>, <isindex>...   \n",
       "4  [Representation of Data:, Clear code:, Data:, ...   \n",
       "\n",
       "                                                link  \n",
       "0         https://www.javatpoint.com/python-tutorial  \n",
       "1            https://www.javatpoint.com/python-scipy  \n",
       "2   https://www.javatpoint.com/python-design-pattern  \n",
       "3  https://www.javatpoint.com/python-cgi-programming  \n",
       "4           https://www.javatpoint.com/python-pandas  "
      ]
     },
     "execution_count": 2,
     "metadata": {},
     "output_type": "execute_result"
    }
   ],
   "source": [
    "df.head()"
   ]
  },
  {
   "cell_type": "code",
   "execution_count": 7,
   "metadata": {},
   "outputs": [],
   "source": [
    "from dotenv import load_dotenv\n",
    "import os\n",
    "load_dotenv()\n",
    "from pinecone import Pinecone \n",
    "p=Pinecone(api_key=os.getenv(\"PINECONE_KEY\"),environment=os.getenv(\"PINECONE_ENVIRONMENT\"))\n",
    "from sentence_transformers import SentenceTransformer\n",
    "model=SentenceTransformer(\"all-mpnet-base-v2\") # dim 768"
   ]
  },
  {
   "cell_type": "code",
   "execution_count": 4,
   "metadata": {},
   "outputs": [
    {
     "name": "stdout",
     "output_type": "stream",
     "text": [
      "WARNING:tensorflow:From c:\\Users\\Tamal Mallick\\Documents\\6th sem college work\\Networking\\Project_search_engine\\search_engine\\Lib\\site-packages\\keras\\src\\losses.py:2976: The name tf.losses.sparse_softmax_cross_entropy is deprecated. Please use tf.compat.v1.losses.sparse_softmax_cross_entropy instead.\n",
      "\n",
      "Num GPUs Available:  0\n"
     ]
    },
    {
     "ename": "NameError",
     "evalue": "name 'SentenceTransformer' is not defined",
     "output_type": "error",
     "traceback": [
      "\u001b[1;31m---------------------------------------------------------------------------\u001b[0m",
      "\u001b[1;31mNameError\u001b[0m                                 Traceback (most recent call last)",
      "Cell \u001b[1;32mIn[4], line 5\u001b[0m\n\u001b[0;32m      3\u001b[0m \u001b[38;5;66;03m# Check GPU availability\u001b[39;00m\n\u001b[0;32m      4\u001b[0m \u001b[38;5;28mprint\u001b[39m(\u001b[38;5;124m\"\u001b[39m\u001b[38;5;124mNum GPUs Available: \u001b[39m\u001b[38;5;124m\"\u001b[39m, \u001b[38;5;28mlen\u001b[39m(tf\u001b[38;5;241m.\u001b[39mconfig\u001b[38;5;241m.\u001b[39mlist_physical_devices(\u001b[38;5;124m'\u001b[39m\u001b[38;5;124mGPU\u001b[39m\u001b[38;5;124m'\u001b[39m)))\n\u001b[1;32m----> 5\u001b[0m model\u001b[38;5;241m=\u001b[39m\u001b[43mSentenceTransformer\u001b[49m(\u001b[38;5;124m\"\u001b[39m\u001b[38;5;124mall-mpnet-base-v2\u001b[39m\u001b[38;5;124m\"\u001b[39m,device\u001b[38;5;241m=\u001b[39m\u001b[38;5;124m'\u001b[39m\u001b[38;5;124mcuda\u001b[39m\u001b[38;5;124m'\u001b[39m) \u001b[38;5;66;03m# dim 768\u001b[39;00m\n",
      "\u001b[1;31mNameError\u001b[0m: name 'SentenceTransformer' is not defined"
     ]
    }
   ],
   "source": [
    "import tensorflow as tf\n",
    "\n",
    "# Check GPU availability\n",
    "print(\"Num GPUs Available: \", len(tf.config.list_physical_devices('GPU')))\n",
    "model=SentenceTransformer(\"all-mpnet-base-v2\",device='cuda') # dim 768"
   ]
  },
  {
   "cell_type": "code",
   "execution_count": null,
   "metadata": {},
   "outputs": [
    {
     "data": {
      "text/plain": [
       "768"
      ]
     },
     "execution_count": 13,
     "metadata": {},
     "output_type": "execute_result"
    }
   ],
   "source": [
    "embeding=model.encode(\"hellow Tamal\")\n",
    "len(embeding)"
   ]
  },
  {
   "cell_type": "code",
   "execution_count": null,
   "metadata": {},
   "outputs": [],
   "source": [
    "index=p.Index('search')"
   ]
  },
  {
   "cell_type": "code",
   "execution_count": null,
   "metadata": {},
   "outputs": [],
   "source": [
    "query_list=[]\n",
    "for i,row in df.iterrows():\n",
    "    query_list.append(\n",
    "        (\n",
    "            str(df.index)\n",
    "        )\n",
    "    )\n"
   ]
  }
 ],
 "metadata": {
  "kernelspec": {
   "display_name": "search_engine",
   "language": "python",
   "name": "python3"
  },
  "language_info": {
   "codemirror_mode": {
    "name": "ipython",
    "version": 3
   },
   "file_extension": ".py",
   "mimetype": "text/x-python",
   "name": "python",
   "nbconvert_exporter": "python",
   "pygments_lexer": "ipython3",
   "version": "3.11.4"
  }
 },
 "nbformat": 4,
 "nbformat_minor": 2
}
